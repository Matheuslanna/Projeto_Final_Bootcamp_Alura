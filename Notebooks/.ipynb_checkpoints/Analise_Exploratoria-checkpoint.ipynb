{
 "cells": [
  {
   "cell_type": "markdown",
   "metadata": {
    "id": "UqJWIPk5k2ut"
   },
   "source": [
    "# **Resumo**\n",
    "\n",
    "Este notbook tem como objetivo realizar a análise exploratório do dataset disponilizado pelo Hospital Sírio-Libanês no Kaggle. \n",
    "\n",
    "A análise irá permitir entender o conjunto de dados a ser trabalhado e pré-processar estes dados para uma forma que seja ideal para trabalharmos durante a construção do modelo preditivo e análise estatística.\n",
    "\n",
    "Uma parte do processamento dos dados já foi feita pelo próprio Hospital Sírio-Libanês, anonimizando os dados coletados, normalizando os dados dentro de um intervalo de -1 a 1 e limpando os dados com problemas.\n"
   ]
  },
  {
   "cell_type": "markdown",
   "metadata": {
    "id": "Agx_H79rqzQy"
   },
   "source": [
    "## **Estruturação dos dados**\n",
    "\n",
    "**Chave identificadora (Unique ID)**\n",
    "\n",
    "O identificador único do paciente é a coluna \"PATIENT_VISIT_IDENTIFIER\".\n",
    "\n",
    "**Variável a ser prevista pelo modelo**\n",
    "\n",
    "A variável a ser prevista é a coluna \"ICU\", que identifica se em algum momento o paciente foi ou não para a UTI.\n",
    "\n",
    "**Janela de tempo**\n",
    "\n",
    "A coluna \"WINDOW\" identifica as janelas de tempo do paciente desde a admissão, sendo composta pelos seguintes intervalos:\n",
    "\n",
    "| Janela | Descrição |\n",
    "|--------|-----------|\n",
    "| 0-2 | Entre 0 até 2 horas a partir da admissão do paciente |\n",
    "| 2-4 | Entre 2 até 4 horas a partir da admissão do paciente |\n",
    "| 4-6 | Entre 4 até 6 horas a partir da admissão do paciente |\n",
    "| 6-12 | Entre 6 até 12 horas a partir da admissão do paciente |\n",
    "| Above-12 | Mais de 12 horas horas a partir da admissão do paciente |\n",
    "\n",
    "**Demais variáveis**\n",
    "\n",
    "Temos as seguintes informações sobre o paciente:\n",
    "\n",
    "| Janela |\n",
    "|--------|\n",
    "|Informações demográficas do paciente|\n",
    "|Grupos de doenças previamente identificadas nos pacientes|\n",
    "|Resultados de exames de sangue|\n",
    "|Sinais vitais|\n",
    "\n",
    "Temos um total de 54 colunas correspondente a 54 variáveis, sendo estas médias, mínimos, máximos, medianas e diferenças.\n",
    "\n",
    "**Dados faltantes**\n",
    "\n",
    "Devido às janelas de intervalo entre a coleta de dados de um paciente, não temos informações de alguns dos exames feitos nestas janelas. Uma solução proposta pelo Hospital é a de utilizar os ressultados de exames de outras janelas do mesmo paciente, visto que o paciente está clinicamente estável em um intervalo de tempo tão curto.\n",
    "\n",
    "**Problema a ser solucionado**\n",
    "\n",
    "A identificação precoce dos pacientes que desenvolverão um curso adverso da doença (e precisam de cuidados intensivos) é a chave para um tratamento adequado (salvar vidas) e para gerenciar leitos e recursos. Um bom modelo usando apenas a primeira janela (0-2) provavelmente será mais clinicamente relevante, por esta razão os dados serão reorganizados a fim de agrupar os dados médicos por paciente e apenas as informações da primeira janela serão utilizadas para identificar se um paciente precisou de internação em qualquer uma das janelas.\n",
    "\n",
    "|Escopo do notebook|\n",
    "|--------|\n",
    "|Importação dos pacotes|\n",
    "|Importação das funções locais|\n",
    "|Leitura dos dados brutos|\n",
    "|Pré-processamento|\n",
    "|Análise da variável alvo|\n",
    "|Análise das informações demográficas|\n",
    "|Análise das demais variáveis categóricas|\n",
    "|Análise das variáveis numéricas|\n",
    "|Salvamento dos dados pré-processados|\n",
    "\n"
   ]
  },
  {
   "cell_type": "markdown",
   "metadata": {
    "id": "QRcf6Sf-_mcP"
   },
   "source": [
    "# **Pré-Processamento**"
   ]
  },
  {
   "cell_type": "markdown",
   "metadata": {
    "id": "TBotI8fnuNU3"
   },
   "source": [
    "## **Importação das bibliotecas gerais**"
   ]
  },
  {
   "cell_type": "code",
   "execution_count": 1,
   "metadata": {
    "id": "lLr7UPYqkxJ6"
   },
   "outputs": [],
   "source": [
    "import pandas as pd\n",
    "import numpy as np\n",
    "import matplotlib.pyplot as plt\n",
    "import seaborn as sns\n",
    "import warnings\n",
    "warnings.filterwarnings('ignore')"
   ]
  },
  {
   "cell_type": "markdown",
   "metadata": {
    "id": "IPilgJ-nuTLN"
   },
   "source": [
    "## **Configuração dos estilos dos elementos visuais, remoção e seed**"
   ]
  },
  {
   "cell_type": "code",
   "execution_count": 2,
   "metadata": {
    "id": "VKCnIjCnuT-d"
   },
   "outputs": [],
   "source": [
    "sns.set_style('darkgrid')\n",
    "\n",
    "seed = 324551"
   ]
  },
  {
   "cell_type": "markdown",
   "metadata": {
    "id": "OQGDTzpkuru6"
   },
   "source": [
    "## **Importação das funções de pré-processamento**"
   ]
  },
  {
   "cell_type": "code",
   "execution_count": 3,
   "metadata": {
    "colab": {
     "base_uri": "https://localhost:8080/",
     "height": 246
    },
    "id": "0OkOat_eunnC",
    "outputId": "bbce74ef-4f3b-44c2-ab7f-6745400c0f7d"
   },
   "outputs": [],
   "source": [
    "import os\n",
    "os.chdir(\"../Funcoes\")\n",
    "from features import teste_chi2, teste_high_corr, binary_features\n",
    "from func_plot import labs, annot_bar\n",
    "from pre_processamento import bfill_ffill_table, select_window\n",
    "os.chdir(\"../Notebooks\")"
   ]
  },
  {
   "cell_type": "markdown",
   "metadata": {
    "id": "-_H9n7GYvA3O"
   },
   "source": [
    "## **Importação do dataset**"
   ]
  },
  {
   "cell_type": "code",
   "execution_count": 4,
   "metadata": {
    "colab": {
     "base_uri": "https://localhost:8080/",
     "height": 343
    },
    "id": "KLzfQB2tvAfX",
    "outputId": "ded1d2f2-49fc-4ee1-9104-d2bc705bfc87"
   },
   "outputs": [],
   "source": [
    "df = pd.read_excel('../Dados/Dados_brutos/Kaggle_Sirio_Libanes_ICU_Prediction.xlsx')"
   ]
  },
  {
   "cell_type": "markdown",
   "metadata": {
    "id": "q0TPzoY2vazA"
   },
   "source": [
    "# **Análise Exploratória**"
   ]
  },
  {
   "cell_type": "markdown",
   "metadata": {
    "id": "lfA3ps4vBiWb"
   },
   "source": [
    "## Verificação das colunas, dados e tamanho do dataset"
   ]
  },
  {
   "cell_type": "code",
   "execution_count": 5,
   "metadata": {
    "id": "SXIbx3oS_YSd"
   },
   "outputs": [
    {
     "data": {
      "text/html": [
       "<div>\n",
       "<style scoped>\n",
       "    .dataframe tbody tr th:only-of-type {\n",
       "        vertical-align: middle;\n",
       "    }\n",
       "\n",
       "    .dataframe tbody tr th {\n",
       "        vertical-align: top;\n",
       "    }\n",
       "\n",
       "    .dataframe thead th {\n",
       "        text-align: right;\n",
       "    }\n",
       "</style>\n",
       "<table border=\"1\" class=\"dataframe\">\n",
       "  <thead>\n",
       "    <tr style=\"text-align: right;\">\n",
       "      <th></th>\n",
       "      <th>PATIENT_VISIT_IDENTIFIER</th>\n",
       "      <th>AGE_ABOVE65</th>\n",
       "      <th>AGE_PERCENTIL</th>\n",
       "      <th>GENDER</th>\n",
       "      <th>DISEASE GROUPING 1</th>\n",
       "      <th>DISEASE GROUPING 2</th>\n",
       "      <th>DISEASE GROUPING 3</th>\n",
       "      <th>DISEASE GROUPING 4</th>\n",
       "      <th>DISEASE GROUPING 5</th>\n",
       "      <th>DISEASE GROUPING 6</th>\n",
       "      <th>...</th>\n",
       "      <th>TEMPERATURE_DIFF</th>\n",
       "      <th>OXYGEN_SATURATION_DIFF</th>\n",
       "      <th>BLOODPRESSURE_DIASTOLIC_DIFF_REL</th>\n",
       "      <th>BLOODPRESSURE_SISTOLIC_DIFF_REL</th>\n",
       "      <th>HEART_RATE_DIFF_REL</th>\n",
       "      <th>RESPIRATORY_RATE_DIFF_REL</th>\n",
       "      <th>TEMPERATURE_DIFF_REL</th>\n",
       "      <th>OXYGEN_SATURATION_DIFF_REL</th>\n",
       "      <th>WINDOW</th>\n",
       "      <th>ICU</th>\n",
       "    </tr>\n",
       "  </thead>\n",
       "  <tbody>\n",
       "    <tr>\n",
       "      <th>0</th>\n",
       "      <td>0</td>\n",
       "      <td>1</td>\n",
       "      <td>60th</td>\n",
       "      <td>0</td>\n",
       "      <td>0.0</td>\n",
       "      <td>0.0</td>\n",
       "      <td>0.0</td>\n",
       "      <td>0.0</td>\n",
       "      <td>1.0</td>\n",
       "      <td>1.0</td>\n",
       "      <td>...</td>\n",
       "      <td>-1.000000</td>\n",
       "      <td>-1.000000</td>\n",
       "      <td>-1.000000</td>\n",
       "      <td>-1.000000</td>\n",
       "      <td>-1.000000</td>\n",
       "      <td>-1.000000</td>\n",
       "      <td>-1.000000</td>\n",
       "      <td>-1.000000</td>\n",
       "      <td>0-2</td>\n",
       "      <td>0</td>\n",
       "    </tr>\n",
       "    <tr>\n",
       "      <th>1</th>\n",
       "      <td>0</td>\n",
       "      <td>1</td>\n",
       "      <td>60th</td>\n",
       "      <td>0</td>\n",
       "      <td>0.0</td>\n",
       "      <td>0.0</td>\n",
       "      <td>0.0</td>\n",
       "      <td>0.0</td>\n",
       "      <td>1.0</td>\n",
       "      <td>1.0</td>\n",
       "      <td>...</td>\n",
       "      <td>-1.000000</td>\n",
       "      <td>-1.000000</td>\n",
       "      <td>-1.000000</td>\n",
       "      <td>-1.000000</td>\n",
       "      <td>-1.000000</td>\n",
       "      <td>-1.000000</td>\n",
       "      <td>-1.000000</td>\n",
       "      <td>-1.000000</td>\n",
       "      <td>2-4</td>\n",
       "      <td>0</td>\n",
       "    </tr>\n",
       "    <tr>\n",
       "      <th>2</th>\n",
       "      <td>0</td>\n",
       "      <td>1</td>\n",
       "      <td>60th</td>\n",
       "      <td>0</td>\n",
       "      <td>0.0</td>\n",
       "      <td>0.0</td>\n",
       "      <td>0.0</td>\n",
       "      <td>0.0</td>\n",
       "      <td>1.0</td>\n",
       "      <td>1.0</td>\n",
       "      <td>...</td>\n",
       "      <td>NaN</td>\n",
       "      <td>NaN</td>\n",
       "      <td>NaN</td>\n",
       "      <td>NaN</td>\n",
       "      <td>NaN</td>\n",
       "      <td>NaN</td>\n",
       "      <td>NaN</td>\n",
       "      <td>NaN</td>\n",
       "      <td>4-6</td>\n",
       "      <td>0</td>\n",
       "    </tr>\n",
       "    <tr>\n",
       "      <th>3</th>\n",
       "      <td>0</td>\n",
       "      <td>1</td>\n",
       "      <td>60th</td>\n",
       "      <td>0</td>\n",
       "      <td>0.0</td>\n",
       "      <td>0.0</td>\n",
       "      <td>0.0</td>\n",
       "      <td>0.0</td>\n",
       "      <td>1.0</td>\n",
       "      <td>1.0</td>\n",
       "      <td>...</td>\n",
       "      <td>-1.000000</td>\n",
       "      <td>-1.000000</td>\n",
       "      <td>NaN</td>\n",
       "      <td>NaN</td>\n",
       "      <td>NaN</td>\n",
       "      <td>NaN</td>\n",
       "      <td>-1.000000</td>\n",
       "      <td>-1.000000</td>\n",
       "      <td>6-12</td>\n",
       "      <td>0</td>\n",
       "    </tr>\n",
       "    <tr>\n",
       "      <th>4</th>\n",
       "      <td>0</td>\n",
       "      <td>1</td>\n",
       "      <td>60th</td>\n",
       "      <td>0</td>\n",
       "      <td>0.0</td>\n",
       "      <td>0.0</td>\n",
       "      <td>0.0</td>\n",
       "      <td>0.0</td>\n",
       "      <td>1.0</td>\n",
       "      <td>1.0</td>\n",
       "      <td>...</td>\n",
       "      <td>-0.238095</td>\n",
       "      <td>-0.818182</td>\n",
       "      <td>-0.389967</td>\n",
       "      <td>0.407558</td>\n",
       "      <td>-0.230462</td>\n",
       "      <td>0.096774</td>\n",
       "      <td>-0.242282</td>\n",
       "      <td>-0.814433</td>\n",
       "      <td>ABOVE_12</td>\n",
       "      <td>1</td>\n",
       "    </tr>\n",
       "  </tbody>\n",
       "</table>\n",
       "<p>5 rows × 231 columns</p>\n",
       "</div>"
      ],
      "text/plain": [
       "   PATIENT_VISIT_IDENTIFIER  AGE_ABOVE65 AGE_PERCENTIL  GENDER  \\\n",
       "0                         0            1          60th       0   \n",
       "1                         0            1          60th       0   \n",
       "2                         0            1          60th       0   \n",
       "3                         0            1          60th       0   \n",
       "4                         0            1          60th       0   \n",
       "\n",
       "   DISEASE GROUPING 1  DISEASE GROUPING 2  DISEASE GROUPING 3  \\\n",
       "0                 0.0                 0.0                 0.0   \n",
       "1                 0.0                 0.0                 0.0   \n",
       "2                 0.0                 0.0                 0.0   \n",
       "3                 0.0                 0.0                 0.0   \n",
       "4                 0.0                 0.0                 0.0   \n",
       "\n",
       "   DISEASE GROUPING 4  DISEASE GROUPING 5  DISEASE GROUPING 6  ...  \\\n",
       "0                 0.0                 1.0                 1.0  ...   \n",
       "1                 0.0                 1.0                 1.0  ...   \n",
       "2                 0.0                 1.0                 1.0  ...   \n",
       "3                 0.0                 1.0                 1.0  ...   \n",
       "4                 0.0                 1.0                 1.0  ...   \n",
       "\n",
       "   TEMPERATURE_DIFF  OXYGEN_SATURATION_DIFF  BLOODPRESSURE_DIASTOLIC_DIFF_REL  \\\n",
       "0         -1.000000               -1.000000                         -1.000000   \n",
       "1         -1.000000               -1.000000                         -1.000000   \n",
       "2               NaN                     NaN                               NaN   \n",
       "3         -1.000000               -1.000000                               NaN   \n",
       "4         -0.238095               -0.818182                         -0.389967   \n",
       "\n",
       "   BLOODPRESSURE_SISTOLIC_DIFF_REL  HEART_RATE_DIFF_REL  \\\n",
       "0                        -1.000000            -1.000000   \n",
       "1                        -1.000000            -1.000000   \n",
       "2                              NaN                  NaN   \n",
       "3                              NaN                  NaN   \n",
       "4                         0.407558            -0.230462   \n",
       "\n",
       "   RESPIRATORY_RATE_DIFF_REL  TEMPERATURE_DIFF_REL  \\\n",
       "0                  -1.000000             -1.000000   \n",
       "1                  -1.000000             -1.000000   \n",
       "2                        NaN                   NaN   \n",
       "3                        NaN             -1.000000   \n",
       "4                   0.096774             -0.242282   \n",
       "\n",
       "   OXYGEN_SATURATION_DIFF_REL    WINDOW  ICU  \n",
       "0                   -1.000000       0-2    0  \n",
       "1                   -1.000000       2-4    0  \n",
       "2                         NaN       4-6    0  \n",
       "3                   -1.000000      6-12    0  \n",
       "4                   -0.814433  ABOVE_12    1  \n",
       "\n",
       "[5 rows x 231 columns]"
      ]
     },
     "execution_count": 5,
     "metadata": {},
     "output_type": "execute_result"
    }
   ],
   "source": [
    "df.head(5)"
   ]
  },
  {
   "cell_type": "code",
   "execution_count": 6,
   "metadata": {
    "id": "Ee7MUxLdBTUv"
   },
   "outputs": [
    {
     "data": {
      "text/plain": [
       "(1925, 231)"
      ]
     },
     "execution_count": 6,
     "metadata": {},
     "output_type": "execute_result"
    }
   ],
   "source": [
    "df.shape"
   ]
  },
  {
   "cell_type": "markdown",
   "metadata": {
    "id": "Pnq2zDhjBdP-"
   },
   "source": [
    "## Verificação da quantidade de valores nulos no dataset"
   ]
  },
  {
   "cell_type": "code",
   "execution_count": 7,
   "metadata": {
    "id": "kLgjGDIoBVmg"
   },
   "outputs": [
    {
     "data": {
      "text/plain": [
       "223863"
      ]
     },
     "execution_count": 7,
     "metadata": {},
     "output_type": "execute_result"
    }
   ],
   "source": [
    "df.isna().sum().sum()"
   ]
  },
  {
   "cell_type": "markdown",
   "metadata": {
    "id": "sEKC0Eq9Fsrj"
   },
   "source": [
    "Como foi dito inicialmente, temos uma grande quantidade de células com dados nulos devido a falta de testes em certos intervalos. Para corrigirmos este problema, iremos preencher estes dados com base em janelas próximos do mesmo paciente, conforme recomendado pelo próprio hospital."
   ]
  },
  {
   "cell_type": "code",
   "execution_count": null,
   "metadata": {
    "id": "fcvKk__MBZ_E"
   },
   "outputs": [],
   "source": [
    "df = df.groupby(['PATIENT_VISIT_IDENTIFIER', 'ICU']).apply(bfill_ffill_table)"
   ]
  },
  {
   "cell_type": "code",
   "execution_count": null,
   "metadata": {
    "id": "OdvxdUizByFZ"
   },
   "outputs": [],
   "source": [
    "df.isna().sum().sum()"
   ]
  },
  {
   "cell_type": "markdown",
   "metadata": {
    "id": "KXE5KaCxGFw5"
   },
   "source": [
    "Como dito, o número de células em branco reduziu consideralmente, retornando apenas algumas com valores nulos, que deverão ser desconsideradas do modelo, por isto iremos removê-las do dataset."
   ]
  },
  {
   "cell_type": "code",
   "execution_count": null,
   "metadata": {
    "id": "ecpCKWkQBzfZ"
   },
   "outputs": [],
   "source": [
    "df = df.dropna()"
   ]
  },
  {
   "cell_type": "code",
   "execution_count": null,
   "metadata": {
    "id": "fbtBUNyaB0ZE"
   },
   "outputs": [],
   "source": [
    "df.isna().sum().sum()"
   ]
  },
  {
   "cell_type": "markdown",
   "metadata": {
    "id": "yjGqBz6WGWT4"
   },
   "source": [
    "Outro caso que devemos desconsiderar, é quando o paciente já foi admitido diretamente para a UTI."
   ]
  },
  {
   "cell_type": "code",
   "execution_count": null,
   "metadata": {
    "id": "WvLBOG0YB2oa"
   },
   "outputs": [],
   "source": [
    "rows_to_remove = df[(df['WINDOW'] == '0-2') & (df['ICU'] == 1)].index\n",
    "df.drop(index=rows_to_remove, inplace=True)\n",
    "df = df.groupby('PATIENT_VISIT_IDENTIFIER').apply(select_window)\n",
    "df.drop(['WINDOW', 'PATIENT_VISIT_IDENTIFIER'], axis=1, inplace=True)\n",
    "df.reset_index(drop=True, inplace=True)\n",
    "df.shape"
   ]
  },
  {
   "cell_type": "markdown",
   "metadata": {
    "id": "7EEK9hmzGzxO"
   },
   "source": [
    "O próximo passo será converter as colunas com dados binários para o formato correto."
   ]
  },
  {
   "cell_type": "code",
   "execution_count": null,
   "metadata": {
    "id": "K_Fh1XHCB_wg"
   },
   "outputs": [],
   "source": [
    "df.info()"
   ]
  },
  {
   "cell_type": "code",
   "execution_count": null,
   "metadata": {
    "id": "QNyn-_eQCCHQ"
   },
   "outputs": [],
   "source": [
    "binary = binary_features(df)\n",
    "binary"
   ]
  },
  {
   "cell_type": "code",
   "execution_count": null,
   "metadata": {
    "id": "0BBZoE9OCHBn"
   },
   "outputs": [],
   "source": [
    "df[binary] = df[binary].astype('int64')\n",
    "df.info()"
   ]
  },
  {
   "cell_type": "markdown",
   "metadata": {
    "id": "-c__csQhCKv-"
   },
   "source": [
    "# Análise da variável alvo (ICU)"
   ]
  },
  {
   "cell_type": "code",
   "execution_count": null,
   "metadata": {
    "id": "pySQF8MkCSMB"
   },
   "outputs": [],
   "source": [
    "df['ICU']"
   ]
  },
  {
   "cell_type": "code",
   "execution_count": null,
   "metadata": {
    "id": "jPx43bn9CTqK"
   },
   "outputs": [],
   "source": [
    "fig, ax = plt.subplots(figsize=(20,10))\n",
    "sns.countplot(df['ICU'], ax=ax, palette=['#2980b9', '#e67e22'])\n",
    "\n",
    "labs(title='Quantidades de pacientes que foram ou não para a UTI',\n",
    "     xlabel='', ylabel='',ax=ax)\n",
    "\n",
    "annot_bar(prop=False, ax=ax, fontsize=25)\n",
    "plt.ylim([0,220])\n",
    "plt.xticks(range(2),['Não foi para UTI', 'Foi para UTI'])\n",
    "plt.text(0,-0.1, 'GRÁFICO 1', color='black', transform=ax.transAxes, fontsize=15)\n",
    "plt.show()"
   ]
  },
  {
   "cell_type": "markdown",
   "metadata": {
    "id": "CWhaaOSQCW5A"
   },
   "source": [
    "Análise das variáveis demográficas"
   ]
  },
  {
   "cell_type": "markdown",
   "metadata": {
    "id": "M6w5F6AfJy1W"
   },
   "source": [
    "Eliminando a coluna de gênero por questões éticas"
   ]
  },
  {
   "cell_type": "code",
   "execution_count": null,
   "metadata": {
    "id": "dXKwtCx7DHto"
   },
   "outputs": [],
   "source": [
    "df.drop('GENDER', axis=1, inplace=True)"
   ]
  },
  {
   "cell_type": "markdown",
   "metadata": {
    "id": "j0_t7RZYJ6kb"
   },
   "source": [
    "Tratamento da coluna de idade percentil para podermos utilizar no modelo ML."
   ]
  },
  {
   "cell_type": "code",
   "execution_count": null,
   "metadata": {
    "id": "gp5RcpPTCbBc"
   },
   "outputs": [],
   "source": [
    "percentil_prop = df.groupby('AGE_PERCENTIL')['ICU'].value_counts(normalize=True).reset_index(name='Prop')\n",
    "percentil_prop"
   ]
  },
  {
   "cell_type": "code",
   "execution_count": null,
   "metadata": {
    "id": "2w-lEdKmCh2C"
   },
   "outputs": [],
   "source": [
    "fig, ax = plt.subplots(figsize=(20,10)) \n",
    "sns.barplot(data=percentil_prop, y='Prop', x='AGE_PERCENTIL', hue='ICU', ax=ax, palette=['#2980b9', '#e67e22'])\n",
    "\n",
    "labs(title='Proporção de pacientes que foram para UTI por idade', \n",
    "     xlabel='', ylabel='',ax=ax)\n",
    "\n",
    "handles, labels = ax.get_legend_handles_labels()\n",
    "plt.legend(handles[0:2], ['Não foi para UTI', 'Foi para UTI'], bbox_to_anchor=(0.85, 1), loc=2, borderaxespad=0., fontsize=15)\n",
    "plt.ylim([0,1])\n",
    "plt.text(0,-0.1, 'GRÁFICO 2', color='black', transform=ax.transAxes, fontsize=15)\n",
    "plt.show()"
   ]
  },
  {
   "cell_type": "markdown",
   "metadata": {
    "id": "TrMzsVCIL7pI"
   },
   "source": [
    "Criação de variáveis categóricas para percentis de idade que sofrem maiores alterações."
   ]
  },
  {
   "cell_type": "code",
   "execution_count": null,
   "metadata": {
    "id": "bEyPbIIjCnYW"
   },
   "outputs": [],
   "source": [
    "df['AGE_UNDER_30th']=[1 if row['AGE_PERCENTIL'] in ['10th', '20th'] \n",
    "                      else 0 for _,row in df.iterrows()] \n",
    "\n",
    "df['AGE_UNDER_50th']=[1 if row['AGE_PERCENTIL'] in ['10th', '20th','30th', '40th'] \n",
    "                      else 0 for _,row in df.iterrows()] \n",
    "\n",
    "df['AGE_ABOVE_50th']=[1 if row['AGE_PERCENTIL'] in ['50th','60th', '70th','80th', '90th', 'Above 90th'] \n",
    "                      else 0 for _,row in df.iterrows()]\n",
    "\n",
    "df['AGE_ABOVE_80th']=[1 if row['AGE_PERCENTIL'] in ['80th', '90th', 'Above 90th'] \n",
    "                      else 0 for _,row in df.iterrows()] \n",
    "\n",
    "df.drop('AGE_PERCENTIL', axis=1, inplace=True)\n",
    "df.head()"
   ]
  },
  {
   "cell_type": "markdown",
   "metadata": {
    "id": "Xg-dkZPsCt0O"
   },
   "source": [
    "## Teste de Chi Quadrado"
   ]
  },
  {
   "cell_type": "code",
   "execution_count": null,
   "metadata": {
    "colab": {
     "base_uri": "https://localhost:8080/",
     "height": 209
    },
    "id": "j8gD3z__MPMx",
    "outputId": "4cae2c7c-83f9-45a6-f91d-7ee59a66a6dd"
   },
   "outputs": [],
   "source": [
    "ages = ['AGE_UNDER_30th','AGE_UNDER_50th','AGE_ABOVE_50th','AGE_ABOVE_80th','AGE_ABOVE65', 'ICU']\n",
    "ages_melt = pd.melt(df[ages], id_vars='ICU')\n",
    "ages_prop = ages_melt.groupby(['variable','value'])['ICU'].mean().reset_index(name='Prop')"
   ]
  },
  {
   "cell_type": "code",
   "execution_count": null,
   "metadata": {
    "id": "6WcelvAOC6R6"
   },
   "outputs": [],
   "source": [
    "valores_p = teste_chi2(df[ages].drop('ICU', axis=1), df['ICU'])\n",
    "for col, p_value in p_values.items():\n",
    "    print(f'A coluna {col} obteve um p valor igual a {np.round(p_value,4)}')"
   ]
  },
  {
   "cell_type": "markdown",
   "metadata": {
    "id": "VNBDwaaaDVB6"
   },
   "source": [
    "## Análise de correção entre as variáveis"
   ]
  },
  {
   "cell_type": "code",
   "execution_count": null,
   "metadata": {
    "id": "lu9LJs5gDZlE"
   },
   "outputs": [],
   "source": [
    "fig,ax = plt.subplots(figsize=(35, 30))\n",
    "cor = df.select_dtypes('float64').corr().abs()\n",
    "mask = np.triu(np.ones_like(cor, dtype=bool))\n",
    "\n",
    "sns.heatmap(cor,\n",
    "            cmap='Reds',\n",
    "            mask=mask,\n",
    "            ax=ax)\n",
    "\n",
    "labs(title='Correlação entre variáveis do conjunto de dados', ax=ax)\n",
    "cbar = ax.collections[0].colorbar\n",
    "cbar.ax.tick_params(labelsize=20)\n",
    "plt.text(0,-0.15, 'GRÁFICO 3', color='black', transform=ax.transAxes, fontsize=15)\n",
    "plt.show()"
   ]
  },
  {
   "cell_type": "markdown",
   "metadata": {
    "id": "BLtqx4XEDj17"
   },
   "source": [
    "Eliminando as colunas de alta correlação para que apenas uma delas continue no\n",
    "dataset, visto a não haver multipla influencia de variáveis correlacionadas."
   ]
  },
  {
   "cell_type": "code",
   "execution_count": null,
   "metadata": {
    "id": "91tt-rKdDeQS"
   },
   "outputs": [],
   "source": [
    "cols_drop_high_corr = teste_high_corr(df.select_dtypes('float64'), 0.95)\n",
    "print(cols_drop_high_corr)\n",
    "print(len(cols_drop_high_corr))"
   ]
  },
  {
   "cell_type": "code",
   "execution_count": null,
   "metadata": {
    "id": "r2qxJow9D0K3"
   },
   "outputs": [],
   "source": [
    "df.drop(cols_drop_high_corr, axis=1, inplace=True)"
   ]
  },
  {
   "cell_type": "markdown",
   "metadata": {
    "id": "8a1-nDNsD1mW"
   },
   "source": [
    "## Análise da variância"
   ]
  },
  {
   "cell_type": "code",
   "execution_count": null,
   "metadata": {
    "id": "uEcIP5GYD4ww"
   },
   "outputs": [],
   "source": [
    "np.random.seed(seed)\n",
    "cont = df.select_dtypes('float64')\n",
    "sample = cont[np.random.choice(cont.columns, size=15, replace=False)]\n",
    "sample_cont = pd.concat([sample, df['ICU']],axis=1) \n",
    "cont_melt = pd.melt(sample_cont, id_vars='ICU')\n",
    "cont_melt.head()"
   ]
  },
  {
   "cell_type": "code",
   "execution_count": null,
   "metadata": {
    "id": "Vx4UNTmYEA-L"
   },
   "outputs": [],
   "source": [
    "fig, ax = plt.subplots(figsize=(20,10))\n",
    "\n",
    "sns.boxplot(x='variable', y='value', hue='ICU',\n",
    "            data=cont_melt, palette=['#2980b9', '#e67e22'], \n",
    "            ax=ax, showfliers=False)\n",
    "\n",
    "sns.stripplot(x='variable', y='value', hue='ICU',\n",
    "              data=cont_melt, palette=['#2980b9', '#e67e22'],\n",
    "              ax=ax, dodge=True)\n",
    "\n",
    "labs(title='Boxplots de 10 colunas contínuas aleatórias', \n",
    "     xlabel='Variável', \n",
    "     ylabel='Valor', \n",
    "     subtitle='COLUNAS REFERENTES AOS DADOS MÉDICOS DE EXAMES E SINAIS VITAIS', ax=ax)\n",
    "\n",
    "plt.xticks(range(10),labels=cont_melt['variable'].str.split('_').str.join('\\n').unique(), rotation=35)\n",
    "handles, labels = ax.get_legend_handles_labels()\n",
    "plt.legend(handles[0:2], ['Não foi para UTI', 'Foi para UTI'], bbox_to_anchor=(0.85, 1), loc=2, borderaxespad=0., fontsize=15)\n",
    "plt.text(0,-0.20, 'GRÁFICO 4', color='black', transform=ax.transAxes, fontsize=15)\n",
    "plt.show()"
   ]
  },
  {
   "cell_type": "code",
   "execution_count": null,
   "metadata": {
    "id": "qQ-jymk2ELr1"
   },
   "outputs": [],
   "source": [
    "var = df.select_dtypes('float64').var()\n",
    "var.sort_values().head()"
   ]
  },
  {
   "cell_type": "code",
   "execution_count": null,
   "metadata": {
    "id": "j_gYXYkHENL-"
   },
   "outputs": [],
   "source": [
    "cols_0_var = [col for col in var.index if var[col] == 0]\n",
    "print(cols_0_var)\n",
    "print(len(cols_0_var))"
   ]
  },
  {
   "cell_type": "markdown",
   "metadata": {
    "id": "P0BO0QTPQYTv"
   },
   "source": [
    "Elimando as colunas com variância igual a zero"
   ]
  },
  {
   "cell_type": "code",
   "execution_count": null,
   "metadata": {
    "id": "1RQrq0EYEPUm"
   },
   "outputs": [],
   "source": [
    "df.drop(cols_0_var,axis=1, inplace=True)\n",
    "df.head()"
   ]
  },
  {
   "cell_type": "code",
   "execution_count": null,
   "metadata": {
    "id": "zYmWlSrfEUGj"
   },
   "outputs": [],
   "source": [
    "df.shape"
   ]
  },
  {
   "cell_type": "markdown",
   "metadata": {
    "id": "i6uGuIGRQjEj"
   },
   "source": [
    "No final, selecionamos 61 das 231 colunas para usarmos na modelagem."
   ]
  },
  {
   "cell_type": "markdown",
   "metadata": {
    "id": "fmqse8M_EWkx"
   },
   "source": [
    "# Salvando o dataset pré-processado para utilização na criação dos modelos de ML"
   ]
  },
  {
   "cell_type": "code",
   "execution_count": null,
   "metadata": {
    "id": "_EL9_KtZEWYW"
   },
   "outputs": [],
   "source": [
    "df.to_csv('../Dados/Dados_limpos/dados_preprocessados.csv', index=False)"
   ]
  }
 ],
 "metadata": {
  "colab": {
   "collapsed_sections": [],
   "name": "Analise_Exploratoria.ipynb",
   "provenance": [],
   "toc_visible": true
  },
  "kernelspec": {
   "display_name": "Python 3",
   "language": "python",
   "name": "python3"
  },
  "language_info": {
   "codemirror_mode": {
    "name": "ipython",
    "version": 3
   },
   "file_extension": ".py",
   "mimetype": "text/x-python",
   "name": "python",
   "nbconvert_exporter": "python",
   "pygments_lexer": "ipython3",
   "version": "3.8.5"
  }
 },
 "nbformat": 4,
 "nbformat_minor": 1
}
