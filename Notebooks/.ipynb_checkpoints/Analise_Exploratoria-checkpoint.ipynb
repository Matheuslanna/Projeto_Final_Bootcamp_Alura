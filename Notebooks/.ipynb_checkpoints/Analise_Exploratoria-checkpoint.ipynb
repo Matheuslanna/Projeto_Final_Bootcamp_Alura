{
 "cells": [
  {
   "cell_type": "markdown",
   "metadata": {
    "id": "UqJWIPk5k2ut"
   },
   "source": [
    "# **Resumo**\n",
    "\n",
    "Este notbook tem como objetivo realizar a análise exploratório do dataset disponilizado pelo Hospital Sírio-Libanês no Kaggle. \n",
    "\n",
    "A análise irá permitir entender o conjunto de dados a ser trabalhado e pré-processar estes dados para uma forma que seja ideal para trabalharmos durante a construção do modelo preditivo e análise estatística.\n",
    "\n",
    "Uma parte do processamento dos dados já foi feita pelo próprio Hospital Sírio-Libanês, anonimizando os dados coletados, normalizando os dados dentro de um intervalo de -1 a 1 e limpando os dados com problemas.\n"
   ]
  },
  {
   "cell_type": "markdown",
   "metadata": {
    "id": "Agx_H79rqzQy"
   },
   "source": [
    "# **Estruturação dos dados**\n",
    "\n",
    "**Chave identificadora (Unique ID)**\n",
    "\n",
    "O identificador único do paciente é a coluna \"PATIENT_VISIT_IDENTIFIER\".\n",
    "\n",
    "**Variável a ser prevista pelo modelo**\n",
    "\n",
    "A variável a ser prevista é a coluna \"ICU\", que identifica se em algum momento o paciente foi ou não para a UTI.\n",
    "\n",
    "**Janela de tempo**\n",
    "\n",
    "A coluna \"WINDOW\" identifica as janelas de tempo do paciente desde a admissão, sendo composta pelos seguintes intervalos:\n",
    "\n",
    "| Janela | Descrição |\n",
    "|--------|-----------|\n",
    "| 0-2 | Entre 0 até 2 horas a partir da admissão do paciente |\n",
    "| 2-4 | Entre 2 até 4 horas a partir da admissão do paciente |\n",
    "| 4-6 | Entre 4 até 6 horas a partir da admissão do paciente |\n",
    "| 6-12 | Entre 6 até 12 horas a partir da admissão do paciente |\n",
    "| Above-12 | Mais de 12 horas horas a partir da admissão do paciente |\n",
    "\n",
    "**Demais variáveis**\n",
    "\n",
    "Temos as seguintes informações sobre o paciente:\n",
    "\n",
    "| Janela |\n",
    "|--------|\n",
    "|Informações demográficas do paciente|\n",
    "|Grupos de doenças previamente identificadas nos pacientes|\n",
    "|Resultados de exames de sangue|\n",
    "|Sinais vitais|\n",
    "\n",
    "Temos um total de 54 colunas correspondente a 54 variáveis, sendo estas médias, mínimos, máximos, medianas e diferenças.\n",
    "\n",
    "**Dados faltantes**\n",
    "\n",
    "Devido às janelas de intervalo entre a coleta de dados de um paciente, não temos informações de alguns dos exames feitos nestas janelas. Uma solução proposta pelo Hospital é a de utilizar os ressultados de exames de outras janelas do mesmo paciente, visto que o paciente está clinicamente estável em um intervalo de tempo tão curto.\n",
    "\n",
    "**Problema a ser solucionado**\n",
    "\n",
    "A identificação precoce dos pacientes que desenvolverão um curso adverso da doença (e precisam de cuidados intensivos) é a chave para um tratamento adequado (salvar vidas) e para gerenciar leitos e recursos. Um bom modelo usando apenas a primeira janela (0-2) provavelmente será mais clinicamente relevante, por esta razão os dados serão reorganizados a fim de agrupar os dados médicos por paciente e apenas as informações da primeira janela serão utilizadas para identificar se um paciente precisou de internação em qualquer uma das janelas.\n",
    "\n",
    "|Escopo do notebook|\n",
    "|--------|\n",
    "|Importação dos pacotes|\n",
    "|Importação das funções locais|\n",
    "|Leitura dos dados brutos|\n",
    "|Pré-processamento|\n",
    "|Análise da variável alvo|\n",
    "|Análise das informações demográficas|\n",
    "|Análise das demais variáveis categóricas|\n",
    "|Análise das variáveis numéricas|\n",
    "|Salvamento dos dados pré-processados|\n",
    "\n"
   ]
  },
  {
   "cell_type": "markdown",
   "metadata": {
    "id": "TBotI8fnuNU3"
   },
   "source": [
    "## **Importação das bibliotecas gerais**"
   ]
  },
  {
   "cell_type": "code",
   "execution_count": 1,
   "metadata": {
    "id": "lLr7UPYqkxJ6"
   },
   "outputs": [],
   "source": [
    "import pandas as pd\n",
    "import numpy as np\n",
    "import matplotlib.pyplot as plt\n",
    "import seaborn as sns\n",
    "import warnings\n",
    "warnings.filterwarnings('ignore')"
   ]
  },
  {
   "cell_type": "markdown",
   "metadata": {
    "id": "IPilgJ-nuTLN"
   },
   "source": [
    "## **Configuração dos estilos dos elementos visuais, remoção e seed**"
   ]
  },
  {
   "cell_type": "code",
   "execution_count": 2,
   "metadata": {
    "id": "VKCnIjCnuT-d"
   },
   "outputs": [],
   "source": [
    "sns.set_style('darkgrid')\n",
    "\n",
    "seed = 324551"
   ]
  },
  {
   "cell_type": "markdown",
   "metadata": {
    "id": "OQGDTzpkuru6"
   },
   "source": [
    "## **Importação das funções de pré-processamento**"
   ]
  },
  {
   "cell_type": "code",
   "execution_count": 3,
   "metadata": {
    "colab": {
     "base_uri": "https://localhost:8080/",
     "height": 246
    },
    "id": "0OkOat_eunnC",
    "outputId": "bbce74ef-4f3b-44c2-ab7f-6745400c0f7d"
   },
   "outputs": [
    {
     "ename": "ModuleNotFoundError",
     "evalue": "No module named 'feature'",
     "output_type": "error",
     "traceback": [
      "\u001b[1;31m---------------------------------------------------------------------------\u001b[0m",
      "\u001b[1;31mModuleNotFoundError\u001b[0m                       Traceback (most recent call last)",
      "\u001b[1;32m<ipython-input-3-5757afcc2c4b>\u001b[0m in \u001b[0;36m<module>\u001b[1;34m\u001b[0m\n\u001b[0;32m      1\u001b[0m \u001b[1;32mimport\u001b[0m \u001b[0mos\u001b[0m\u001b[1;33m\u001b[0m\u001b[1;33m\u001b[0m\u001b[0m\n\u001b[0;32m      2\u001b[0m \u001b[0mos\u001b[0m\u001b[1;33m.\u001b[0m\u001b[0mchdir\u001b[0m\u001b[1;33m(\u001b[0m\u001b[1;34m\"../funcoes\"\u001b[0m\u001b[1;33m)\u001b[0m\u001b[1;33m\u001b[0m\u001b[1;33m\u001b[0m\u001b[0m\n\u001b[1;32m----> 3\u001b[1;33m \u001b[1;32mfrom\u001b[0m \u001b[0mfeature\u001b[0m \u001b[1;32mimport\u001b[0m \u001b[0mcompute_chi2\u001b[0m\u001b[1;33m,\u001b[0m \u001b[0mcompute_high_corr\u001b[0m\u001b[1;33m,\u001b[0m \u001b[0mbinary_features\u001b[0m\u001b[1;33m\u001b[0m\u001b[1;33m\u001b[0m\u001b[0m\n\u001b[0m\u001b[0;32m      4\u001b[0m \u001b[1;32mfrom\u001b[0m \u001b[0mmy_plot\u001b[0m \u001b[1;32mimport\u001b[0m \u001b[0mlabs\u001b[0m\u001b[1;33m,\u001b[0m \u001b[0mannot_bar\u001b[0m\u001b[1;33m\u001b[0m\u001b[1;33m\u001b[0m\u001b[0m\n\u001b[0;32m      5\u001b[0m \u001b[1;32mfrom\u001b[0m \u001b[0mpreprocessing\u001b[0m \u001b[1;32mimport\u001b[0m \u001b[0mfill_table\u001b[0m\u001b[1;33m,\u001b[0m \u001b[0mselect_window\u001b[0m\u001b[1;33m\u001b[0m\u001b[1;33m\u001b[0m\u001b[0m\n",
      "\u001b[1;31mModuleNotFoundError\u001b[0m: No module named 'feature'"
     ]
    }
   ],
   "source": [
    "import os\n",
    "os.chdir(\"../funcoes\")\n",
    "from feature import compute_chi2, compute_high_corr, binary_features\n",
    "from my_plot import labs, annot_bar\n",
    "from preprocessing import fill_table, select_window\n",
    "os.chdir(\"../notebooks\")"
   ]
  },
  {
   "cell_type": "markdown",
   "metadata": {
    "id": "-_H9n7GYvA3O"
   },
   "source": [
    "## **Importação do dataset**"
   ]
  },
  {
   "cell_type": "code",
   "execution_count": 4,
   "metadata": {
    "colab": {
     "base_uri": "https://localhost:8080/",
     "height": 343
    },
    "id": "KLzfQB2tvAfX",
    "outputId": "ded1d2f2-49fc-4ee1-9104-d2bc705bfc87"
   },
   "outputs": [],
   "source": [
    "df = pd.read_excel('../Dados/Dados_brutos/Kaggle_Sirio_Libanes_ICU_Prediction.xlsx')"
   ]
  },
  {
   "cell_type": "markdown",
   "metadata": {
    "id": "q0TPzoY2vazA"
   },
   "source": [
    "## **Pré-processamento**"
   ]
  }
 ],
 "metadata": {
  "colab": {
   "name": "Analise_Exploratoria.ipynb",
   "provenance": []
  },
  "kernelspec": {
   "display_name": "Python 3",
   "language": "python",
   "name": "python3"
  },
  "language_info": {
   "codemirror_mode": {
    "name": "ipython",
    "version": 3
   },
   "file_extension": ".py",
   "mimetype": "text/x-python",
   "name": "python",
   "nbconvert_exporter": "python",
   "pygments_lexer": "ipython3",
   "version": "3.8.5"
  }
 },
 "nbformat": 4,
 "nbformat_minor": 1
}
