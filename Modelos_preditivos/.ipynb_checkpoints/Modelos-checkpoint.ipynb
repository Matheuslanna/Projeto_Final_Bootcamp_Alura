{
 "cells": [
  {
   "cell_type": "markdown",
   "metadata": {
    "id": "i2TqHG0XX-xV"
   },
   "source": [
    "# **Resumo**\n",
    "\n",
    "Após o pré-processamento realizado, iremos agora partir para a etapa de criação dos modelos de Machila Learning, determinação das métricas para cada modelo, otimização dos melhores modelos e por fim a criação do modelo final.\n",
    "\n"
   ]
  },
  {
   "cell_type": "markdown",
   "metadata": {
    "id": "d6jKeb8aYql7"
   },
   "source": [
    "## **Importação das bibliotecas e ajustes globais**"
   ]
  },
  {
   "cell_type": "code",
   "execution_count": 1,
   "metadata": {
    "id": "4kh1uJo2X92u"
   },
   "outputs": [
    {
     "ename": "ModuleNotFoundError",
     "evalue": "No module named 'pipelinehelper'",
     "output_type": "error",
     "traceback": [
      "\u001b[1;31m---------------------------------------------------------------------------\u001b[0m",
      "\u001b[1;31mModuleNotFoundError\u001b[0m                       Traceback (most recent call last)",
      "\u001b[1;32m<ipython-input-1-4c7a9a468840>\u001b[0m in \u001b[0;36m<module>\u001b[1;34m\u001b[0m\n\u001b[0;32m     15\u001b[0m \u001b[1;32mfrom\u001b[0m \u001b[0msklearn\u001b[0m\u001b[1;33m.\u001b[0m\u001b[0mmodel_selection\u001b[0m \u001b[1;32mimport\u001b[0m \u001b[0mRepeatedStratifiedKFold\u001b[0m\u001b[1;33m,\u001b[0m \u001b[0mRandomizedSearchCV\u001b[0m\u001b[1;33m\u001b[0m\u001b[1;33m\u001b[0m\u001b[0m\n\u001b[0;32m     16\u001b[0m \u001b[1;32mfrom\u001b[0m \u001b[0msklearn\u001b[0m\u001b[1;33m.\u001b[0m\u001b[0mpipeline\u001b[0m \u001b[1;32mimport\u001b[0m \u001b[0mPipeline\u001b[0m\u001b[1;33m\u001b[0m\u001b[1;33m\u001b[0m\u001b[0m\n\u001b[1;32m---> 17\u001b[1;33m \u001b[1;32mfrom\u001b[0m \u001b[0mpipelinehelper\u001b[0m \u001b[1;32mimport\u001b[0m \u001b[0mPipelineHelper\u001b[0m\u001b[1;33m\u001b[0m\u001b[1;33m\u001b[0m\u001b[0m\n\u001b[0m\u001b[0;32m     18\u001b[0m \u001b[1;32mfrom\u001b[0m \u001b[0mjoblib\u001b[0m \u001b[1;32mimport\u001b[0m \u001b[0mdump\u001b[0m\u001b[1;33m\u001b[0m\u001b[1;33m\u001b[0m\u001b[0m\n\u001b[0;32m     19\u001b[0m \u001b[1;32mimport\u001b[0m \u001b[0mpickle\u001b[0m\u001b[1;33m\u001b[0m\u001b[1;33m\u001b[0m\u001b[0m\n",
      "\u001b[1;31mModuleNotFoundError\u001b[0m: No module named 'pipelinehelper'"
     ]
    }
   ],
   "source": [
    "import pandas as pd\n",
    "import seaborn as sns\n",
    "import matplotlib.pyplot as plt\n",
    "import warnings\n",
    "warnings.filterwarnings('ignore')\n",
    "import os\n",
    "\n",
    "from sklearn.dummy import DummyClassifier\n",
    "from sklearn.linear_model import LogisticRegression\n",
    "from sklearn.tree import DecisionTreeClassifier\n",
    "from sklearn.ensemble import RandomForestClassifier,ExtraTreesClassifier\n",
    "\n",
    "from sklearn.utils import resample\n",
    "from sklearn.feature_selection import SelectFromModel\n",
    "from sklearn.model_selection import RepeatedStratifiedKFold, RandomizedSearchCV\n",
    "from sklearn.pipeline import Pipeline\n",
    "from pipelinehelper import PipelineHelper\n",
    "from joblib import dump\n",
    "import pickle\n",
    "\n",
    "sns.set_style('darkgrid')\n",
    "seed = 324551"
   ]
  },
  {
   "cell_type": "markdown",
   "metadata": {
    "id": "ylgpT4GvZCQB"
   },
   "source": [
    "## **Importações de funções próprias e determinação de diretório**"
   ]
  },
  {
   "cell_type": "code",
   "execution_count": null,
   "metadata": {
    "id": "IUinE1q5Y7OH"
   },
   "outputs": [],
   "source": [
    "os.chdir(\"../Funcoes\")\n",
    "from my_classifier import Classifier\n",
    "os.chdir(\"../Notebooks\")"
   ]
  },
  {
   "cell_type": "markdown",
   "metadata": {
    "id": "7omyEmwoZKJ7"
   },
   "source": [
    "## **Importação dos dados pré-processados**"
   ]
  },
  {
   "cell_type": "code",
   "execution_count": null,
   "metadata": {
    "id": "jK5JeDcZZJ5a"
   },
   "outputs": [],
   "source": [
    "df = pd.read_csv('../Dados/Dados_limpos/dados_preprocessados.csv')\n",
    "df.head(3)"
   ]
  },
  {
   "cell_type": "markdown",
   "metadata": {
    "id": "BE67mUJVZeS8"
   },
   "source": [
    "## **Métricas Avaliativas e Modelos Utilizados**\n",
    "\n",
    "As métricas escolhidas irão ajudar na decisão de qual modelo utilizar com base em sua performance. Serão usadas as seguintes métricas:\n",
    "\n",
    "1.   ROC AUC\n",
    "2.   F1 score\n",
    "3.   Recall\n",
    "4.   Precisão\n",
    "5.   Acurácia\n",
    "\n",
    "Os modelos escolhidos para análise foram:\n",
    "\n",
    "|Modelo | Pacote |\tMétodo|\n",
    "|-------|--------|--------|\n",
    "|LogisticRegression |\tsklearn.linear_model |\tRegressão Logística|\n",
    "|DecisionTreeClassifier |\tsklearn.tree \t| Árvore de decisão|\n",
    "|RandomForestClassifier |\tsklearn.ensemble |\tEnsemble|\n",
    "|ExtraTreesClassifier |\tsklearn.ensemble |\tEnsemble|\n",
    "\n",
    "Para avaliar os medelos, iremos utilizar o ***DummyClassifier***, que irá \"chutar\" os resultados e usaremos como ***Baseline***."
   ]
  },
  {
   "cell_type": "markdown",
   "metadata": {
    "id": "lLPpyyPdcfGE"
   },
   "source": [
    "## **Reamostragem**\n",
    "\n",
    "Iremos inicialmente realizar uma reamostragem dos dados de forma a balancear a proporção de pacientes que necessitaram ou não de UTI entre os dados de treino e os dados de teste, evitando assim um undersampling ou oversampling."
   ]
  },
  {
   "cell_type": "code",
   "execution_count": null,
   "metadata": {
    "id": "fMVqo3Skcysc"
   },
   "outputs": [],
   "source": [
    "df['ICU'].value_counts()"
   ]
  },
  {
   "cell_type": "code",
   "execution_count": null,
   "metadata": {
    "id": "Dimgsgmcc1kD"
   },
   "outputs": [],
   "source": [
    "icu0 = df.query('ICU == 0')\n",
    "icu1 = df.query('ICU == 1')\n",
    "icu1_resample = resample(icu1,\n",
    "                         n_samples=len(icu0),\n",
    "                         random_state=SEED)\n",
    "df_resample = pd.concat([icu1_resample, icu0], axis=0)\n",
    "df_resample['ICU'].value_counts()"
   ]
  },
  {
   "cell_type": "markdown",
   "metadata": {
    "id": "mZAWH_Jvc-N5"
   },
   "source": [
    "Vemos agora que temos um dataset balanceado, com o mesmo número de pacientes que necessitaram ou não de UTI."
   ]
  },
  {
   "cell_type": "markdown",
   "metadata": {
    "id": "ewdcHo7jahYV"
   },
   "source": [
    "## Criação do Modelo DummyClassifier"
   ]
  },
  {
   "cell_type": "code",
   "execution_count": null,
   "metadata": {
    "colab": {
     "base_uri": "https://localhost:8080/",
     "height": 191
    },
    "id": "zlq0Io8TZhH-",
    "outputId": "061acbf7-1505-4396-fdac-bf3f39ba2629"
   },
   "outputs": [],
   "source": [
    "dummy = Classifier(DummyClassifier, df, strategy='most_frequent')\n",
    "dummy.cross_val()"
   ]
  },
  {
   "cell_type": "markdown",
   "metadata": {
    "id": "jgP-ZIdjbGuY"
   },
   "source": [
    "## **LogisticRegression**"
   ]
  },
  {
   "cell_type": "code",
   "execution_count": null,
   "metadata": {
    "id": "HM8N-xoXaps1"
   },
   "outputs": [],
   "source": [
    "lr = Classifier(LogisticRegression, df, max_iter=5000)\n",
    "lr.cross_val()"
   ]
  },
  {
   "cell_type": "markdown",
   "metadata": {
    "id": "6cMwp0yMbQd1"
   },
   "source": [
    "## **DecisionTreeClassifier**"
   ]
  },
  {
   "cell_type": "code",
   "execution_count": null,
   "metadata": {
    "id": "htZ_6bHmbSet"
   },
   "outputs": [],
   "source": [
    "dt = Classifier(DecisionTreeClassifier, df)\n",
    "dt.cross_val()"
   ]
  },
  {
   "cell_type": "markdown",
   "metadata": {
    "id": "-nsR0jx8bWNs"
   },
   "source": [
    "## **RandomForestClassifier**"
   ]
  },
  {
   "cell_type": "code",
   "execution_count": null,
   "metadata": {
    "id": "jQGC-jsEbVED"
   },
   "outputs": [],
   "source": [
    "rf = Classifier(RandomForestClassifier, df)\n",
    "rf.cross_val()"
   ]
  },
  {
   "cell_type": "markdown",
   "metadata": {
    "id": "xp8Ta3URbcSI"
   },
   "source": [
    "## **ExtraTreesClassifier**"
   ]
  },
  {
   "cell_type": "code",
   "execution_count": null,
   "metadata": {
    "id": "fZjxCO6IbvUQ"
   },
   "outputs": [],
   "source": [
    "et = Classifier(ExtraTreesClassifier, df)\n",
    "et.cross_val()"
   ]
  },
  {
   "cell_type": "markdown",
   "metadata": {
    "id": "fCt1-1fJbnf-"
   },
   "source": [
    "## **Análise das Métricas**"
   ]
  },
  {
   "cell_type": "markdown",
   "metadata": {
    "id": "XguxS2jIbkIi"
   },
   "source": [
    "### **Curva ROC**"
   ]
  },
  {
   "cell_type": "code",
   "execution_count": null,
   "metadata": {
    "id": "G7VengxqbmEY"
   },
   "outputs": [],
   "source": [
    "sns.set_palette(sns.color_palette('Set1'), 4)\n",
    "ax = dummy.plot_roc_curve(color='navy', lw=2, linestyle='--')\n",
    "lr.plot_roc_curve(ax=ax)\n",
    "dt.plot_roc_curve(ax=ax)\n",
    "rf.plot_roc_curve(ax=ax)\n",
    "et.plot_roc_curve(ax=ax)\n",
    "plt.show()"
   ]
  },
  {
   "cell_type": "markdown",
   "metadata": {
    "id": "M_hbT1LKdeHv"
   },
   "source": [
    "Com base na curva ROC, selecionamos os dois modelos com melhor resultado, sendo eles o **RandomForestClassifier** e o **ExtraTreesClassifier**."
   ]
  },
  {
   "cell_type": "markdown",
   "metadata": {
    "id": "BcDEAcvTdkgg"
   },
   "source": [
    "## **Otimização dos Modelos Selecionados**\n",
    "\n",
    "Para a otimização de modelos iremos utilizar duas ferramentas, sendo a primeira o PipelineHelper e a segunda o RandomizedSearchCV."
   ]
  },
  {
   "cell_type": "code",
   "execution_count": null,
   "metadata": {
    "id": "_xvlkivGd89k"
   },
   "outputs": [],
   "source": [
    "df_resample_shuffle = df_resample.sample(frac=1, random_state=seed).reset_index(drop=True)\n",
    "\n",
    "X = df_resample_shuffle.drop('ICU', axis=1)\n",
    "y = df_resample_shuffle['ICU']\n",
    "\n",
    "cv = RepeatedStratifiedKFold(n_splits=5, n_repeats=10, random_state=seed)"
   ]
  },
  {
   "cell_type": "code",
   "execution_count": null,
   "metadata": {
    "id": "HJTfdRr6eGE8"
   },
   "outputs": [],
   "source": [
    "pipeline = Pipeline([\n",
    "    ('feature_selection', PipelineHelper([\n",
    "        ('rf',  SelectFromModel(RandomForestClassifier()))])),\n",
    "    ('classifier', PipelineHelper([\n",
    "        ('rf', RandomForestClassifier()),\n",
    "        ('et', ExtraTreesClassifier())\n",
    "    ])),\n",
    "])\n",
    "\n",
    "param = {\n",
    "    'feature_selection__selected_model': pipeline.named_steps['feature_selection'].generate({\n",
    "        'rf__threshold': [0,  'median', 'mean', '1.25*mean'],\n",
    "        'rf__estimator__random_state':[seed]\n",
    "    }),\n",
    "    'classifier__selected_model': pipeline.named_steps['classifier'].generate({\n",
    "        'rf__bootstrap':[True, False],\n",
    "        'rf__max_depth': [None, 5, 10, 15,20],\n",
    "        'rf__max_features' : [4, 'auto', 10],\n",
    "        'rf__n_estimators': [100, 200, 400, 800],\n",
    "        'rf__min_samples_split': [2, 3, 5],\n",
    "        'rf__min_samples_leaf': [1, 2, 3],\n",
    "        'rf__random_state' : [seed],\n",
    "        'et__bootstrap':[True, False],\n",
    "        'et__max_depth': [None, 5, 10, 15, 20],\n",
    "        'et__n_estimators': [100, 200, 400, 800],\n",
    "        'et__max_features' : [4, 'auto', 10],\n",
    "        'et__min_samples_split': [2, 3, 5],\n",
    "        'et__min_samples_leaf': [1, 2, 3],\n",
    "        'et__random_state' : [seed]\n",
    "    })\n",
    "}"
   ]
  },
  {
   "cell_type": "code",
   "execution_count": null,
   "metadata": {
    "id": "rrukgKPEeaQS"
   },
   "outputs": [],
   "source": [
    "random_search = RandomizedSearchCV(pipe, params, n_jobs=-1, cv=cv, n_iter=2000, scoring='f1_macro', verbose=1, random_state=SEED)\n",
    "random_search.fit(X,y)"
   ]
  },
  {
   "cell_type": "code",
   "execution_count": null,
   "metadata": {
    "id": "Qc5WP1ujebki"
   },
   "outputs": [],
   "source": [
    "print(f'Os parâmetros do modelo com o melhor resultado foram {random_search.best_params_}\\n')\n",
    "print(f'O melhor resultado para o F1 score foi de {random_search.best_score_}\\n')\n",
    "print(f'O melhor modelo foi {random_search.best_estimator_}')"
   ]
  },
  {
   "cell_type": "code",
   "execution_count": null,
   "metadata": {
    "id": "oYYNo1Vselea"
   },
   "outputs": [],
   "source": [
    "with open('../Modelos_preditivos/random_search_cv', 'wb') as random_search_file:\n",
    "    pickle.dump(random_search, random_search_file) "
   ]
  },
  {
   "cell_type": "markdown",
   "metadata": {
    "id": "s5TGv1s7ezT1"
   },
   "source": [
    "## **Modelo Final**"
   ]
  },
  {
   "cell_type": "code",
   "execution_count": null,
   "metadata": {
    "id": "AMcZt4Moe3Kr"
   },
   "outputs": [],
   "source": [
    "best_selection = random_search.best_estimator_['feature_selection'].selected_model \n",
    "best_selection"
   ]
  },
  {
   "cell_type": "code",
   "execution_count": null,
   "metadata": {
    "id": "gAuTEiKpe4WA"
   },
   "outputs": [],
   "source": [
    "best_classifier = random_search.best_estimator_['classifier'].selected_model \n",
    "best_classifier"
   ]
  },
  {
   "cell_type": "code",
   "execution_count": null,
   "metadata": {
    "id": "B85AFeiie5io"
   },
   "outputs": [],
   "source": [
    "best_pipeline = Pipeline([('feature_selection', best_selection),('classifier', best_classifier)])\n",
    "best_pipeline"
   ]
  },
  {
   "cell_type": "code",
   "execution_count": null,
   "metadata": {
    "id": "CPAZZQLqe7GP"
   },
   "outputs": [],
   "source": [
    "best = Classifier(best_pipeline, df_resample)\n",
    "best.cross_val()"
   ]
  },
  {
   "cell_type": "code",
   "execution_count": null,
   "metadata": {
    "id": "hXPnk_e-e_jB"
   },
   "outputs": [],
   "source": [
    "best.hist_metrics(kde=True, color=(0.12156862745098039, 0.4666666666666667, 0.7058823529411765, 0.5), \n",
    "                  name_estimator='final')\n",
    "plt.show()"
   ]
  },
  {
   "cell_type": "code",
   "execution_count": null,
   "metadata": {
    "id": "cRerdoIbfEwh"
   },
   "outputs": [],
   "source": [
    "best.plot_confusion(name_estimator='final')\n",
    "plt.show()"
   ]
  },
  {
   "cell_type": "code",
   "execution_count": null,
   "metadata": {
    "id": "4hdSyeRjfJKe"
   },
   "outputs": [],
   "source": [
    "best.confusion_matrix_mean"
   ]
  },
  {
   "cell_type": "markdown",
   "metadata": {
    "id": "ANzGui2pfLKu"
   },
   "source": [
    "## **Resultados**\n",
    "\n",
    "O resultado das métricas obtidas no modelo escolhido foi:\n",
    "\n",
    "|Métrica |\tMédia|\n",
    "|--------| ------|\n",
    "|ROC AUC |\t0.946|\n",
    "|ACURÁCIA |\t0.882|\n",
    "|PRECISÃO |\t0.885|\n",
    "|F1-SCORE |\t0.882|\n",
    "|RECALL |\t0.882|"
   ]
  },
  {
   "cell_type": "markdown",
   "metadata": {
    "id": "pfyStkr3fSub"
   },
   "source": [
    "## **Salvando Modelo Final**"
   ]
  },
  {
   "cell_type": "code",
   "execution_count": null,
   "metadata": {
    "id": "PejALjFofSfx"
   },
   "outputs": [],
   "source": [
    "best_pipeline.fit(X, y)\n",
    "dump(best_pipeline, '../Modelos_preditivos/Modelo_final.joblib')\n",
    "\n"
   ]
  }
 ],
 "metadata": {
  "colab": {
   "name": "Modelos.ipynb",
   "provenance": []
  },
  "kernelspec": {
   "display_name": "Python 3",
   "language": "python",
   "name": "python3"
  },
  "language_info": {
   "codemirror_mode": {
    "name": "ipython",
    "version": 3
   },
   "file_extension": ".py",
   "mimetype": "text/x-python",
   "name": "python",
   "nbconvert_exporter": "python",
   "pygments_lexer": "ipython3",
   "version": "3.8.5"
  }
 },
 "nbformat": 4,
 "nbformat_minor": 1
}
